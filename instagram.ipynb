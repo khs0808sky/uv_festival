{
 "cells": [
  {
   "cell_type": "code",
   "execution_count": 1,
   "id": "f2765bfe",
   "metadata": {},
   "outputs": [
    {
     "name": "stdout",
     "output_type": "stream",
     "text": [
      "Collecting instaloader\n",
      "  Downloading instaloader-4.14.2-py3-none-any.whl.metadata (6.7 kB)\n",
      "Requirement already satisfied: requests>=2.25 in c:\\users\\user\\appdata\\local\\programs\\python\\python311\\lib\\site-packages (from instaloader) (2.32.5)\n",
      "Requirement already satisfied: charset_normalizer<4,>=2 in c:\\users\\user\\appdata\\local\\programs\\python\\python311\\lib\\site-packages (from requests>=2.25->instaloader) (3.4.3)\n",
      "Requirement already satisfied: idna<4,>=2.5 in c:\\users\\user\\appdata\\local\\programs\\python\\python311\\lib\\site-packages (from requests>=2.25->instaloader) (3.10)\n",
      "Requirement already satisfied: urllib3<3,>=1.21.1 in c:\\users\\user\\appdata\\local\\programs\\python\\python311\\lib\\site-packages (from requests>=2.25->instaloader) (2.5.0)\n",
      "Requirement already satisfied: certifi>=2017.4.17 in c:\\users\\user\\appdata\\local\\programs\\python\\python311\\lib\\site-packages (from requests>=2.25->instaloader) (2025.8.3)\n",
      "Downloading instaloader-4.14.2-py3-none-any.whl (67 kB)\n",
      "   ---------------------------------------- 0.0/68.0 kB ? eta -:--:--\n",
      "   ------ --------------------------------- 10.2/68.0 kB ? eta -:--:--\n",
      "   ---------------------------------------- 68.0/68.0 kB 1.2 MB/s eta 0:00:00\n",
      "Installing collected packages: instaloader\n",
      "Successfully installed instaloader-4.14.2\n"
     ]
    },
    {
     "name": "stderr",
     "output_type": "stream",
     "text": [
      "\n",
      "[notice] A new release of pip is available: 24.0 -> 25.2\n",
      "[notice] To update, run: C:\\Users\\USER\\AppData\\Local\\Programs\\Python\\Python311\\python.exe -m pip install --upgrade pip\n"
     ]
    },
    {
     "name": "stdout",
     "output_type": "stream",
     "text": [
      "Collecting selenium\n",
      "  Downloading selenium-4.37.0-py3-none-any.whl.metadata (7.5 kB)\n",
      "Requirement already satisfied: urllib3<3.0,>=2.5.0 in c:\\users\\user\\appdata\\local\\programs\\python\\python311\\lib\\site-packages (from urllib3[socks]<3.0,>=2.5.0->selenium) (2.5.0)\n",
      "Collecting trio<1.0,>=0.31.0 (from selenium)\n",
      "  Downloading trio-0.31.0-py3-none-any.whl.metadata (8.5 kB)\n",
      "Collecting trio-websocket<1.0,>=0.12.2 (from selenium)\n",
      "  Downloading trio_websocket-0.12.2-py3-none-any.whl.metadata (5.1 kB)\n",
      "Collecting certifi>=2025.10.5 (from selenium)\n",
      "  Downloading certifi-2025.10.5-py3-none-any.whl.metadata (2.5 kB)\n",
      "Requirement already satisfied: typing_extensions<5.0,>=4.15.0 in c:\\users\\user\\appdata\\roaming\\python\\python311\\site-packages (from selenium) (4.15.0)\n",
      "Requirement already satisfied: websocket-client<2.0,>=1.8.0 in c:\\users\\user\\appdata\\local\\programs\\python\\python311\\lib\\site-packages (from selenium) (1.8.0)\n",
      "Requirement already satisfied: attrs>=23.2.0 in c:\\users\\user\\appdata\\local\\programs\\python\\python311\\lib\\site-packages (from trio<1.0,>=0.31.0->selenium) (25.3.0)\n",
      "Collecting sortedcontainers (from trio<1.0,>=0.31.0->selenium)\n",
      "  Using cached sortedcontainers-2.4.0-py2.py3-none-any.whl.metadata (10 kB)\n",
      "Requirement already satisfied: idna in c:\\users\\user\\appdata\\local\\programs\\python\\python311\\lib\\site-packages (from trio<1.0,>=0.31.0->selenium) (3.10)\n",
      "Collecting outcome (from trio<1.0,>=0.31.0->selenium)\n",
      "  Downloading outcome-1.3.0.post0-py2.py3-none-any.whl.metadata (2.6 kB)\n",
      "Requirement already satisfied: sniffio>=1.3.0 in c:\\users\\user\\appdata\\local\\programs\\python\\python311\\lib\\site-packages (from trio<1.0,>=0.31.0->selenium) (1.3.1)\n",
      "Requirement already satisfied: cffi>=1.14 in c:\\users\\user\\appdata\\local\\programs\\python\\python311\\lib\\site-packages (from trio<1.0,>=0.31.0->selenium) (1.17.1)\n",
      "Collecting wsproto>=0.14 (from trio-websocket<1.0,>=0.12.2->selenium)\n",
      "  Downloading wsproto-1.2.0-py3-none-any.whl.metadata (5.6 kB)\n",
      "Collecting pysocks!=1.5.7,<2.0,>=1.5.6 (from urllib3[socks]<3.0,>=2.5.0->selenium)\n",
      "  Downloading PySocks-1.7.1-py3-none-any.whl.metadata (13 kB)\n",
      "Requirement already satisfied: pycparser in c:\\users\\user\\appdata\\local\\programs\\python\\python311\\lib\\site-packages (from cffi>=1.14->trio<1.0,>=0.31.0->selenium) (2.22)\n",
      "Requirement already satisfied: h11<1,>=0.9.0 in c:\\users\\user\\appdata\\local\\programs\\python\\python311\\lib\\site-packages (from wsproto>=0.14->trio-websocket<1.0,>=0.12.2->selenium) (0.16.0)\n",
      "Downloading selenium-4.37.0-py3-none-any.whl (9.7 MB)\n",
      "   ---------------------------------------- 0.0/9.7 MB ? eta -:--:--\n",
      "   - -------------------------------------- 0.4/9.7 MB 11.8 MB/s eta 0:00:01\n",
      "   --- ------------------------------------ 0.9/9.7 MB 11.5 MB/s eta 0:00:01\n",
      "   ----- ---------------------------------- 1.4/9.7 MB 12.6 MB/s eta 0:00:01\n",
      "   ------- -------------------------------- 1.9/9.7 MB 11.9 MB/s eta 0:00:01\n",
      "   ---------- ----------------------------- 2.5/9.7 MB 12.1 MB/s eta 0:00:01\n",
      "   ------------ --------------------------- 3.1/9.7 MB 12.2 MB/s eta 0:00:01\n",
      "   --------------- ------------------------ 3.7/9.7 MB 11.7 MB/s eta 0:00:01\n",
      "   ----------------- ---------------------- 4.2/9.7 MB 12.1 MB/s eta 0:00:01\n",
      "   ------------------- -------------------- 4.6/9.7 MB 11.8 MB/s eta 0:00:01\n",
      "   -------------------- ------------------- 5.1/9.7 MB 12.0 MB/s eta 0:00:01\n",
      "   ---------------------- ----------------- 5.5/9.7 MB 11.7 MB/s eta 0:00:01\n",
      "   ----------------------- ---------------- 5.8/9.7 MB 11.9 MB/s eta 0:00:01\n",
      "   -------------------------- ------------- 6.5/9.7 MB 11.9 MB/s eta 0:00:01\n",
      "   ----------------------------- ---------- 7.2/9.7 MB 11.8 MB/s eta 0:00:01\n",
      "   ------------------------------- -------- 7.7/9.7 MB 12.0 MB/s eta 0:00:01\n",
      "   ---------------------------------- ----- 8.3/9.7 MB 11.8 MB/s eta 0:00:01\n",
      "   ------------------------------------ --- 8.8/9.7 MB 11.7 MB/s eta 0:00:01\n",
      "   -------------------------------------- - 9.2/9.7 MB 11.8 MB/s eta 0:00:01\n",
      "   ---------------------------------------  9.7/9.7 MB 11.7 MB/s eta 0:00:01\n",
      "   ---------------------------------------- 9.7/9.7 MB 11.5 MB/s eta 0:00:00\n",
      "Downloading certifi-2025.10.5-py3-none-any.whl (163 kB)\n",
      "   ---------------------------------------- 0.0/163.3 kB ? eta -:--:--\n",
      "   --------------------------------------- 163.3/163.3 kB 10.2 MB/s eta 0:00:00\n",
      "Downloading trio-0.31.0-py3-none-any.whl (512 kB)\n",
      "   ---------------------------------------- 0.0/512.7 kB ? eta -:--:--\n",
      "   --------------------------------------  501.8/512.7 kB 15.9 MB/s eta 0:00:01\n",
      "   --------------------------------------- 512.7/512.7 kB 10.7 MB/s eta 0:00:00\n",
      "Downloading trio_websocket-0.12.2-py3-none-any.whl (21 kB)\n",
      "Downloading outcome-1.3.0.post0-py2.py3-none-any.whl (10 kB)\n",
      "Downloading PySocks-1.7.1-py3-none-any.whl (16 kB)\n",
      "Downloading wsproto-1.2.0-py3-none-any.whl (24 kB)\n",
      "Using cached sortedcontainers-2.4.0-py2.py3-none-any.whl (29 kB)\n",
      "Installing collected packages: sortedcontainers, wsproto, pysocks, outcome, certifi, trio, trio-websocket, selenium\n",
      "  Attempting uninstall: certifi\n",
      "    Found existing installation: certifi 2025.8.3\n",
      "    Uninstalling certifi-2025.8.3:\n",
      "      Successfully uninstalled certifi-2025.8.3\n",
      "Successfully installed certifi-2025.10.5 outcome-1.3.0.post0 pysocks-1.7.1 selenium-4.37.0 sortedcontainers-2.4.0 trio-0.31.0 trio-websocket-0.12.2 wsproto-1.2.0\n"
     ]
    },
    {
     "name": "stderr",
     "output_type": "stream",
     "text": [
      "\n",
      "[notice] A new release of pip is available: 24.0 -> 25.2\n",
      "[notice] To update, run: C:\\Users\\USER\\AppData\\Local\\Programs\\Python\\Python311\\python.exe -m pip install --upgrade pip\n"
     ]
    },
    {
     "name": "stdout",
     "output_type": "stream",
     "text": [
      "Requirement already satisfied: pandas in c:\\users\\user\\appdata\\local\\programs\\python\\python311\\lib\\site-packages (2.1.4)\n",
      "Requirement already satisfied: numpy<2,>=1.23.2 in c:\\users\\user\\appdata\\local\\programs\\python\\python311\\lib\\site-packages (from pandas) (1.26.4)\n",
      "Requirement already satisfied: python-dateutil>=2.8.2 in c:\\users\\user\\appdata\\roaming\\python\\python311\\site-packages (from pandas) (2.9.0.post0)\n",
      "Requirement already satisfied: pytz>=2020.1 in c:\\users\\user\\appdata\\local\\programs\\python\\python311\\lib\\site-packages (from pandas) (2025.2)\n",
      "Requirement already satisfied: tzdata>=2022.1 in c:\\users\\user\\appdata\\local\\programs\\python\\python311\\lib\\site-packages (from pandas) (2025.2)\n",
      "Requirement already satisfied: six>=1.5 in c:\\users\\user\\appdata\\roaming\\python\\python311\\site-packages (from python-dateutil>=2.8.2->pandas) (1.17.0)\n"
     ]
    },
    {
     "name": "stderr",
     "output_type": "stream",
     "text": [
      "\n",
      "[notice] A new release of pip is available: 24.0 -> 25.2\n",
      "[notice] To update, run: C:\\Users\\USER\\AppData\\Local\\Programs\\Python\\Python311\\python.exe -m pip install --upgrade pip\n"
     ]
    },
    {
     "name": "stdout",
     "output_type": "stream",
     "text": [
      "Collecting matplotlib\n",
      "  Downloading matplotlib-3.10.7-cp311-cp311-win_amd64.whl.metadata (11 kB)\n",
      "Collecting contourpy>=1.0.1 (from matplotlib)\n",
      "  Using cached contourpy-1.3.3-cp311-cp311-win_amd64.whl.metadata (5.5 kB)\n",
      "Collecting cycler>=0.10 (from matplotlib)\n",
      "  Using cached cycler-0.12.1-py3-none-any.whl.metadata (3.8 kB)\n",
      "Collecting fonttools>=4.22.0 (from matplotlib)\n",
      "  Downloading fonttools-4.60.1-cp311-cp311-win_amd64.whl.metadata (114 kB)\n",
      "     ---------------------------------------- 0.0/114.6 kB ? eta -:--:--\n",
      "     --- ------------------------------------ 10.2/114.6 kB ? eta -:--:--\n",
      "     -------------------------------------- 114.6/114.6 kB 1.7 MB/s eta 0:00:00\n",
      "Collecting kiwisolver>=1.3.1 (from matplotlib)\n",
      "  Using cached kiwisolver-1.4.9-cp311-cp311-win_amd64.whl.metadata (6.4 kB)\n",
      "Requirement already satisfied: numpy>=1.23 in c:\\users\\user\\appdata\\local\\programs\\python\\python311\\lib\\site-packages (from matplotlib) (1.26.4)\n",
      "Requirement already satisfied: packaging>=20.0 in c:\\users\\user\\appdata\\local\\programs\\python\\python311\\lib\\site-packages (from matplotlib) (23.2)\n",
      "Requirement already satisfied: pillow>=8 in c:\\users\\user\\appdata\\local\\programs\\python\\python311\\lib\\site-packages (from matplotlib) (10.4.0)\n",
      "Collecting pyparsing>=3 (from matplotlib)\n",
      "  Downloading pyparsing-3.2.5-py3-none-any.whl.metadata (5.0 kB)\n",
      "Requirement already satisfied: python-dateutil>=2.7 in c:\\users\\user\\appdata\\roaming\\python\\python311\\site-packages (from matplotlib) (2.9.0.post0)\n",
      "Requirement already satisfied: six>=1.5 in c:\\users\\user\\appdata\\roaming\\python\\python311\\site-packages (from python-dateutil>=2.7->matplotlib) (1.17.0)\n",
      "Downloading matplotlib-3.10.7-cp311-cp311-win_amd64.whl (8.1 MB)\n",
      "   ---------------------------------------- 0.0/8.1 MB ? eta -:--:--\n",
      "   - -------------------------------------- 0.3/8.1 MB 10.6 MB/s eta 0:00:01\n",
      "   ---- ----------------------------------- 0.9/8.1 MB 9.8 MB/s eta 0:00:01\n",
      "   ------- -------------------------------- 1.5/8.1 MB 10.7 MB/s eta 0:00:01\n",
      "   ---------- ----------------------------- 2.1/8.1 MB 11.2 MB/s eta 0:00:01\n",
      "   ------------ --------------------------- 2.5/8.1 MB 10.9 MB/s eta 0:00:01\n",
      "   --------------- ------------------------ 3.1/8.1 MB 11.0 MB/s eta 0:00:01\n",
      "   ------------------ --------------------- 3.7/8.1 MB 11.1 MB/s eta 0:00:01\n",
      "   -------------------- ------------------- 4.1/8.1 MB 11.4 MB/s eta 0:00:01\n",
      "   ----------------------- ---------------- 4.7/8.1 MB 11.5 MB/s eta 0:00:01\n",
      "   ------------------------- -------------- 5.3/8.1 MB 11.6 MB/s eta 0:00:01\n",
      "   ---------------------------- ----------- 5.9/8.1 MB 11.7 MB/s eta 0:00:01\n",
      "   ------------------------------- -------- 6.5/8.1 MB 11.4 MB/s eta 0:00:01\n",
      "   ---------------------------------- ----- 6.9/8.1 MB 11.6 MB/s eta 0:00:01\n",
      "   ------------------------------------ --- 7.4/8.1 MB 11.6 MB/s eta 0:00:01\n",
      "   -------------------------------------- - 7.8/8.1 MB 11.7 MB/s eta 0:00:01\n",
      "   ---------------------------------------- 8.1/8.1 MB 11.3 MB/s eta 0:00:00\n",
      "Using cached contourpy-1.3.3-cp311-cp311-win_amd64.whl (225 kB)\n",
      "Using cached cycler-0.12.1-py3-none-any.whl (8.3 kB)\n",
      "Downloading fonttools-4.60.1-cp311-cp311-win_amd64.whl (2.3 MB)\n",
      "   ---------------------------------------- 0.0/2.3 MB ? eta -:--:--\n",
      "   --------- ------------------------------ 0.6/2.3 MB 17.8 MB/s eta 0:00:01\n",
      "   ---------- ----------------------------- 0.6/2.3 MB 7.4 MB/s eta 0:00:01\n",
      "   ------------------------------ --------- 1.8/2.3 MB 12.3 MB/s eta 0:00:01\n",
      "   -------------------------------------- - 2.2/2.3 MB 12.8 MB/s eta 0:00:01\n",
      "   ---------------------------------------- 2.3/2.3 MB 12.1 MB/s eta 0:00:00\n",
      "Using cached kiwisolver-1.4.9-cp311-cp311-win_amd64.whl (73 kB)\n",
      "Downloading pyparsing-3.2.5-py3-none-any.whl (113 kB)\n",
      "   ---------------------------------------- 0.0/113.9 kB ? eta -:--:--\n",
      "   ---------------------------------------- 113.9/113.9 kB ? eta 0:00:00\n",
      "Installing collected packages: pyparsing, kiwisolver, fonttools, cycler, contourpy, matplotlib\n",
      "Successfully installed contourpy-1.3.3 cycler-0.12.1 fonttools-4.60.1 kiwisolver-1.4.9 matplotlib-3.10.7 pyparsing-3.2.5\n"
     ]
    },
    {
     "name": "stderr",
     "output_type": "stream",
     "text": [
      "\n",
      "[notice] A new release of pip is available: 24.0 -> 25.2\n",
      "[notice] To update, run: C:\\Users\\USER\\AppData\\Local\\Programs\\Python\\Python311\\python.exe -m pip install --upgrade pip\n"
     ]
    }
   ],
   "source": [
    "# 일반적인 스크래핑/자동화 라이브러리 설치 (예시)\n",
    "!pip install instaloader\n",
    "!pip install selenium\n",
    "!pip install pandas\n",
    "!pip install matplotlib"
   ]
  },
  {
   "cell_type": "code",
   "execution_count": 5,
   "id": "83f23ae9",
   "metadata": {},
   "outputs": [
    {
     "ename": "ModuleNotFoundError",
     "evalue": "No module named 'instaloader'",
     "output_type": "error",
     "traceback": [
      "\u001b[31m---------------------------------------------------------------------------\u001b[39m",
      "\u001b[31mModuleNotFoundError\u001b[39m                       Traceback (most recent call last)",
      "\u001b[36mCell\u001b[39m\u001b[36m \u001b[39m\u001b[32mIn[5]\u001b[39m\u001b[32m, line 1\u001b[39m\n\u001b[32m----> \u001b[39m\u001b[32m1\u001b[39m \u001b[38;5;28;01mimport\u001b[39;00m\u001b[38;5;250m \u001b[39m\u001b[34;01minstaloader\u001b[39;00m\n\u001b[32m      2\u001b[39m \u001b[38;5;28;01mimport\u001b[39;00m\u001b[38;5;250m \u001b[39m\u001b[34;01mpandas\u001b[39;00m\u001b[38;5;250m \u001b[39m\u001b[38;5;28;01mas\u001b[39;00m\u001b[38;5;250m \u001b[39m\u001b[34;01mpd\u001b[39;00m\n\u001b[32m      4\u001b[39m \u001b[38;5;66;03m# 🔑 분석할 키워드 (해시태그)를 직접 입력하세요\u001b[39;00m\n",
      "\u001b[31mModuleNotFoundError\u001b[39m: No module named 'instaloader'"
     ]
    }
   ],
   "source": [
    "import instaloader\n",
    "import pandas as pd\n",
    "\n",
    "# 🔑 분석할 키워드 (해시태그)를 직접 입력하세요\n",
    "KEYWORD = \"여행\" \n",
    "HASHTAG = KEYWORD"
   ]
  }
 ],
 "metadata": {
  "kernelspec": {
   "display_name": "uv_festival",
   "language": "python",
   "name": "python3"
  },
  "language_info": {
   "codemirror_mode": {
    "name": "ipython",
    "version": 3
   },
   "file_extension": ".py",
   "mimetype": "text/x-python",
   "name": "python",
   "nbconvert_exporter": "python",
   "pygments_lexer": "ipython3",
   "version": "3.11.9"
  }
 },
 "nbformat": 4,
 "nbformat_minor": 5
}
